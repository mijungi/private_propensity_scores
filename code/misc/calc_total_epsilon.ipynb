{
 "cells": [
  {
   "cell_type": "code",
   "execution_count": 6,
   "metadata": {},
   "outputs": [
    {
     "name": "stdout",
     "output_type": "stream",
     "text": [
      "2\n",
      "total epsilon for n_epochs = 10 and sigma = 1.01 is 8.806244425107934\n",
      "4\n",
      "total epsilon for n_epochs = 10 and sigma = 1.5 is 4.576545956409196\n",
      "6\n",
      "total epsilon for n_epochs = 10 and sigma = 2 is 3.076600043713613\n",
      "14\n",
      "total epsilon for n_epochs = 10 and sigma = 4 is 1.3471128488311916\n",
      "18\n",
      "total epsilon for n_epochs = 10 and sigma = 6 is 0.9194619944192267\n"
     ]
    }
   ],
   "source": [
    "# __author__ = 'mijung'\n",
    "\n",
    "import numpy as np\n",
    "import calculate_moments_accountant as MA\n",
    "\n",
    "\n",
    "\"\"\" define variables for your training setting \"\"\"\n",
    "n_data = 1000 # number of training datapoints\n",
    "# n_epochs = [1, 2, 5, 8, 1] # number of epochs\n",
    "n_epochs =[10]\n",
    "batch_size = 100 # mini-batch size\n",
    "\n",
    "\n",
    "sigma = [1.01, 1.5, 2, 4, 6] # privacy parameter , this has to be larger than 1.\n",
    "\n",
    "total_del = 1e-5\n",
    "\n",
    "\"\"\" ========  calculate  moments  ======== \"\"\"\n",
    "for i in range(len(sigma)):\n",
    "    for j in range(len(n_epochs)):\n",
    "        J = n_data / batch_size * n_epochs[j] # number of iterations\n",
    "        nu = (batch_size / n_data) # sampling rate\n",
    "\n",
    "        # make sure lambda < sigma^2 log (1/(nu*sigma))\n",
    "        max_lmbd = int(np.floor((sigma[i] ** 2) * np.log(1 / (nu * sigma[i]))))\n",
    "        print(max_lmbd)\n",
    "        \n",
    "        lmbds = range(1, max_lmbd + 1)\n",
    "        log_moments = []\n",
    "        for lmbd in lmbds:\n",
    "            log_moment = 0\n",
    "            log_moment = MA.compute_log_moment(nu, sigma[i], J, lmbd, verify=True, verbose=False)\n",
    "            log_moments.append((lmbd, log_moment))\n",
    "\n",
    "        total_epsilon, total_delta = MA.get_privacy_spent(log_moments, target_delta=total_del)\n",
    "\n",
    "        print('total epsilon for n_epochs = {} and sigma = {} is {}'.format(n_epochs[j], sigma[i], total_epsilon))"
   ]
  },
  {
   "cell_type": "code",
   "execution_count": 2,
   "metadata": {},
   "outputs": [
    {
     "name": "stdout",
     "output_type": "stream",
     "text": [
      "total epsilon for batch_size = 100.0 and sigma = 12 is inf\n",
      "total epsilon for batch_size = 300.0 and sigma = 12 is inf\n",
      "total epsilon for batch_size = 500.0 and sigma = 12 is inf\n",
      "total epsilon for batch_size = 800.0 and sigma = 12 is inf\n",
      "total epsilon for batch_size = 1000.0 and sigma = 12 is inf\n"
     ]
    }
   ],
   "source": [
    "# __author__ = 'mijung'\n",
    "\n",
    "import numpy as np\n",
    "import calculate_moments_accountant as MA\n",
    "\n",
    "\n",
    "\"\"\" define variables for your training setting \"\"\"\n",
    "n_data = 1000 # number of training datapoints\n",
    "n_epochs = 5 # number of epochs\n",
    "batch_size = np.array([0.1, 0.3, 0.5, 0.8, 1]) * n_data # mini-batch size\n",
    "\n",
    "\n",
    "sigma = [12] # privacy parameter , this has to be larger than 1.\n",
    "\n",
    "\n",
    "total_del = 1e-5\n",
    "\n",
    "\"\"\" ========  calculate  moments  ======== \"\"\"\n",
    "for i in range(len(sigma)):\n",
    "    for j in range(len(batch_size)):\n",
    "        J = n_data / batch_size[j] * n_epochs # number of iterations\n",
    "        nu = (batch_size[j] / n_data) # sampling rate\n",
    "\n",
    "        # make sure lambda < sigma^2 log (1/(nu*sigma))\n",
    "        max_lmbd = int(np.floor((sigma[i] ** 2) * np.log(1 / (nu * sigma[i]))))\n",
    "        # print(max_lmbd)\n",
    "        \n",
    "        lmbds = range(1, max_lmbd + 1)\n",
    "        log_moments = []\n",
    "        for lmbd in lmbds:\n",
    "            log_moment = 0\n",
    "            log_moment = MA.compute_log_moment(nu, sigma[i], J, lmbd, verify=True, verbose=False)\n",
    "            log_moments.append((lmbd, log_moment))\n",
    "\n",
    "        total_epsilon, total_delta = MA.get_privacy_spent(log_moments, target_delta=total_del)\n",
    "\n",
    "        print('total epsilon for batch_size = {} and sigma = {} is {}'.format(batch_size[j], sigma[i], total_epsilon))"
   ]
  },
  {
   "cell_type": "code",
   "execution_count": null,
   "metadata": {},
   "outputs": [],
   "source": []
  }
 ],
 "metadata": {
  "kernelspec": {
   "display_name": "Python 3",
   "language": "python",
   "name": "python3"
  },
  "language_info": {
   "codemirror_mode": {
    "name": "ipython",
    "version": 3
   },
   "file_extension": ".py",
   "mimetype": "text/x-python",
   "name": "python",
   "nbconvert_exporter": "python",
   "pygments_lexer": "ipython3",
   "version": "3.6.7"
  }
 },
 "nbformat": 4,
 "nbformat_minor": 2
}
