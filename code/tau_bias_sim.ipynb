{
 "cells": [
  {
   "cell_type": "code",
   "execution_count": 1,
   "metadata": {},
   "outputs": [
    {
     "name": "stderr",
     "output_type": "stream",
     "text": [
      "/usr/local/Cellar/python/3.6.5/Frameworks/Python.framework/Versions/3.6/lib/python3.6/importlib/_bootstrap.py:219: RuntimeWarning: numpy.dtype size changed, may indicate binary incompatibility. Expected 96, got 88\n",
      "  return f(*args, **kwds)\n"
     ]
    }
   ],
   "source": [
    "import numpy as np\n",
    "import matplotlib.pyplot as plt\n",
    "import pandas as pd\n",
    "import seaborn as sns\n",
    "from scipy.special import expit\n",
    "from scipy.stats import bernoulli\n",
    "from sklearn import preprocessing\n",
    "\n",
    "%matplotlib inline"
   ]
  },
  {
   "cell_type": "markdown",
   "metadata": {},
   "source": [
    "## Data generation"
   ]
  },
  {
   "cell_type": "code",
   "execution_count": 2,
   "metadata": {},
   "outputs": [],
   "source": [
    "def data_generation(n,dim,bias,alpha_vec,alpha_0):\n",
    "\n",
    "    X  = preprocessing.normalize(np.random.randn(n,dim))\n",
    "    prob_vec = expit(np.dot(alpha_vec,X.T) + alpha_0)\n",
    "    T  = bernoulli.rvs(prob_vec)\n",
    "    Y = np.dot(alpha_vec,X.T) + bias*T + 0.01*np.random.randn(X.shape[0])\n",
    "    return (X,T,Y)"
   ]
  },
  {
   "cell_type": "code",
   "execution_count": 3,
   "metadata": {},
   "outputs": [],
   "source": [
    "def bias_function(X,T,Y,wvec,sigma):\n",
    "    beta_vec = np.exp(0.5*sigma**2 * np.sum(X**2,axis=1))\n",
    "    return np.sum(Y[T==1]*np.exp(-np.dot(X[T==1,:],wvec))*(beta_vec[T==1]-1)) - np.sum(Y[T==0]*np.exp(np.dot(X[T==0,:],wvec))*(beta_vec[T==0]-1))"
   ]
  },
  {
   "cell_type": "markdown",
   "metadata": {},
   "source": [
    "## Simulation"
   ]
  },
  {
   "cell_type": "code",
   "execution_count": 4,
   "metadata": {},
   "outputs": [],
   "source": [
    "num_repeats = 30\n",
    "num_samples = [10,100,1000]\n",
    "dim = 5\n",
    "\n",
    "delta = 1e-5\n",
    "lmbda = 1\n",
    "\n",
    "eps_values = [1e-2,1e-1,1,10]\n",
    "num_epsilons = len(eps_values)\n",
    "\n",
    "func_vals = np.zeros((len(eps_values),len(num_samples)))\n",
    "\n",
    "wvec = np.random.randn(dim,1)"
   ]
  },
  {
   "cell_type": "code",
   "execution_count": 5,
   "metadata": {},
   "outputs": [
    {
     "name": "stderr",
     "output_type": "stream",
     "text": [
      "/usr/local/lib/python3.6/site-packages/ipykernel_launcher.py:2: RuntimeWarning: overflow encountered in exp\n",
      "  \n",
      "/usr/local/lib/python3.6/site-packages/numpy/core/fromnumeric.py:83: RuntimeWarning: invalid value encountered in reduce\n",
      "  return ufunc.reduce(obj, axis, dtype, out, **passkwargs)\n"
     ]
    }
   ],
   "source": [
    "bias = 3\n",
    "alpha_vec = np.array([0.5,0.4,0.3,0.2,0.1])\n",
    "alpha_0 = 0.05\n",
    "\n",
    "for (i,n) in enumerate(num_samples):\n",
    "    for (j,epsilon) in enumerate(eps_values):\n",
    "        sigma = 2*np.sqrt(2*np.log(1.25/delta))/(n*epsilon*lmbda)\n",
    "        for k in range(num_repeats):\n",
    "            (X,T,Y) = data_generation(n,dim,bias,alpha_vec,alpha_0)\n",
    "            func_vals[j,i] += bias_function(X,T,Y,wvec,sigma)/n\n",
    "            \n",
    "func_vals /= num_repeats"
   ]
  },
  {
   "cell_type": "markdown",
   "metadata": {},
   "source": [
    "## Plot"
   ]
  },
  {
   "cell_type": "code",
   "execution_count": 6,
   "metadata": {},
   "outputs": [
    {
     "name": "stderr",
     "output_type": "stream",
     "text": [
      "/usr/local/lib/python3.6/site-packages/numpy/ma/core.py:2143: RuntimeWarning: invalid value encountered in greater_equal\n",
      "  condition = (xf >= v1) & (xf <= v2)\n",
      "/usr/local/lib/python3.6/site-packages/numpy/ma/core.py:2143: RuntimeWarning: invalid value encountered in less_equal\n",
      "  condition = (xf >= v1) & (xf <= v2)\n"
     ]
    },
    {
     "data": {
      "image/png": "[encoded data removed]",
      "text/plain": [
       "<Figure size 432x288 with 1 Axes>"
      ]
     },
     "metadata": {},
     "output_type": "display_data"
    }
   ],
   "source": [
    "fig = plt.gcf()\n",
    "for i in range(len(eps_values)):\n",
    "    plt.plot(num_samples,func_vals[i,:],lw=2,label=''.join(['$\\epsilon=$',str(eps_values[i])]))\n",
    "plt.yscale('symlog')\n",
    "plt.xscale('symlog')\n",
    "plt.legend()\n",
    "plt.title(\"The behaviour of $g(\\sigma)/n$\")\n",
    "plt.xlabel(\"sample size ($n$)\")\n",
    "plt.tight_layout()"
   ]
  },
  {
   "cell_type": "code",
   "execution_count": 7,
   "metadata": {},
   "outputs": [
    {
     "name": "stderr",
     "output_type": "stream",
     "text": [
      "/usr/local/lib/python3.6/site-packages/numpy/ma/core.py:2143: RuntimeWarning: invalid value encountered in greater_equal\n",
      "  condition = (xf >= v1) & (xf <= v2)\n",
      "/usr/local/lib/python3.6/site-packages/numpy/ma/core.py:2143: RuntimeWarning: invalid value encountered in less_equal\n",
      "  condition = (xf >= v1) & (xf <= v2)\n"
     ]
    }
   ],
   "source": [
    "# save the figure\n",
    "fig.savefig('bias_plot_1.pdf',dpi=100)"
   ]
  },
  {
   "cell_type": "code",
   "execution_count": 8,
   "metadata": {},
   "outputs": [
    {
     "name": "stderr",
     "output_type": "stream",
     "text": [
      "/usr/local/lib/python3.6/site-packages/ipykernel_launcher.py:2: RuntimeWarning: overflow encountered in exp\n",
      "  \n",
      "/usr/local/lib/python3.6/site-packages/numpy/core/fromnumeric.py:83: RuntimeWarning: invalid value encountered in reduce\n",
      "  return ufunc.reduce(obj, axis, dtype, out, **passkwargs)\n",
      "/usr/local/lib/python3.6/site-packages/ipykernel_launcher.py:3: RuntimeWarning: invalid value encountered in double_scalars\n",
      "  This is separate from the ipykernel package so we can avoid doing imports until\n"
     ]
    }
   ],
   "source": [
    "num_samples = [10,100,1000]\n",
    "eps_values = [1e-4,1e-3,1e-2,1e-1,1,10]\n",
    "func_vals = np.zeros((len(num_samples),len(eps_values)))\n",
    "\n",
    "for (j,n) in enumerate(num_samples):\n",
    "    for(i,epsilon) in enumerate(eps_values):\n",
    "        sigma = 2*np.sqrt(2*np.log(1.25/delta))/(n*epsilon*lmbda)\n",
    "        for k in range(num_repeats):\n",
    "            (X,T,Y) = data_generation(n,dim,bias,alpha_vec,alpha_0)\n",
    "            func_vals[j,i] += bias_function(X,T,Y,wvec,sigma)/n\n",
    "            \n",
    "func_vals /= num_repeats"
   ]
  },
  {
   "cell_type": "code",
   "execution_count": 9,
   "metadata": {},
   "outputs": [
    {
     "name": "stderr",
     "output_type": "stream",
     "text": [
      "/usr/local/lib/python3.6/site-packages/numpy/ma/core.py:2143: RuntimeWarning: invalid value encountered in greater_equal\n",
      "  condition = (xf >= v1) & (xf <= v2)\n",
      "/usr/local/lib/python3.6/site-packages/numpy/ma/core.py:2143: RuntimeWarning: invalid value encountered in less_equal\n",
      "  condition = (xf >= v1) & (xf <= v2)\n"
     ]
    },
    {
     "data": {
      "image/png": "[encoded data removed]",
      "text/plain": [
       "<Figure size 432x288 with 1 Axes>"
      ]
     },
     "metadata": {},
     "output_type": "display_data"
    }
   ],
   "source": [
    "fig = plt.gcf()\n",
    "for i in range(len(num_samples)):\n",
    "    plt.plot(eps_values,func_vals[i,:],lw=2,label=''.join(['$n=$',str(num_samples[i])]))\n",
    "    \n",
    "plt.yscale('symlog')\n",
    "plt.xscale('symlog')\n",
    "plt.legend()\n",
    "plt.title(\"The behaviour of $g(\\sigma)/n$\")\n",
    "plt.xlabel(\"$\\epsilon$\")\n",
    "plt.tight_layout()"
   ]
  },
  {
   "cell_type": "code",
   "execution_count": 10,
   "metadata": {},
   "outputs": [
    {
     "name": "stderr",
     "output_type": "stream",
     "text": [
      "/usr/local/lib/python3.6/site-packages/numpy/ma/core.py:2143: RuntimeWarning: invalid value encountered in greater_equal\n",
      "  condition = (xf >= v1) & (xf <= v2)\n",
      "/usr/local/lib/python3.6/site-packages/numpy/ma/core.py:2143: RuntimeWarning: invalid value encountered in less_equal\n",
      "  condition = (xf >= v1) & (xf <= v2)\n"
     ]
    }
   ],
   "source": [
    "# save the figure\n",
    "fig.savefig('bias_plot_2.pdf',dpi=100)"
   ]
  }
 ],
 "metadata": {
  "kernelspec": {
   "display_name": "Python 3",
   "language": "python",
   "name": "python3"
  },
  "language_info": {
   "codemirror_mode": {
    "name": "ipython",
    "version": 3
   },
   "file_extension": ".py",
   "mimetype": "text/x-python",
   "name": "python",
   "nbconvert_exporter": "python",
   "pygments_lexer": "ipython3",
   "version": "3.6.7"
  }
 },
 "nbformat": 4,
 "nbformat_minor": 2
}
