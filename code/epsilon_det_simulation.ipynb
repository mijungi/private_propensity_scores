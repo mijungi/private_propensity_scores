{
 "cells": [
  {
   "cell_type": "markdown",
   "metadata": {},
   "source": [
    "# Effect of $\\epsilon$ on Average Treatment Effect"
   ]
  },
  {
   "cell_type": "code",
   "execution_count": 1,
   "metadata": {},
   "outputs": [
    {
     "data": {
      "text/plain": [
       "<torch._C.Generator at 0x1067dd970>"
      ]
     },
     "execution_count": 1,
     "metadata": {},
     "output_type": "execute_result"
    }
   ],
   "source": [
    "import copy\n",
    "\n",
    "import numpy as np\n",
    "import matplotlib.pyplot as plt\n",
    "import torch\n",
    "\n",
    "from agm import calibrateAnalyticGaussianMechanism\n",
    "\n",
    "%matplotlib inline\n",
    "\n",
    "# set random seed\n",
    "np.random.seed(1)\n",
    "torch.manual_seed(1)"
   ]
  },
  {
   "cell_type": "code",
   "execution_count": 2,
   "metadata": {},
   "outputs": [],
   "source": [
    "# no. experiments, no. draws of z, no. samples, dim, X\n",
    "ne = 100\n",
    "nd = 1\n",
    "ns = 1200\n",
    "dim = 50\n",
    "\n",
    "# draw ne separate ns samples\n",
    "X_std = 3\n",
    "X_dist = torch.distributions.normal.Normal(torch.tensor([0.0], dtype=torch.float64), torch.tensor([X_std], dtype=torch.float64))\n",
    "X  = [X_dist.sample((ns, dim)).squeeze() for i in range(ne)]\n",
    "\n",
    "# restrict X to ||x||_2 \\leq 1 to fit assumption for each experiment\n",
    "X = torch.stack([X[i] / X[i].norm(dim=1).max() for i in range(ne)])"
   ]
  },
  {
   "cell_type": "code",
   "execution_count": 3,
   "metadata": {},
   "outputs": [],
   "source": [
    "# no. of points used to fit log reg\n",
    "nf = 1000\n",
    "\n",
    "# privacy parameters\n",
    "epses = [0.01, 0.03, 0.05, 0.1, 0.2, 0.4, 0.8, 0.99]\n",
    "delta = 1e-6\n",
    "\n",
    "# regularisation coefficient\n",
    "reg_co = 0.1"
   ]
  },
  {
   "cell_type": "code",
   "execution_count": 4,
   "metadata": {},
   "outputs": [],
   "source": [
    "# vectors for generating Y, differentiate between Y_0 and Y_1 with true treatment effect tau\n",
    "# Y = beta^T X + 0.1 Z\n",
    "# Y_1 = Y + tau, Y_0 = Y\n",
    "beta_std = 1\n",
    "beta_dist = torch.distributions.normal.Normal(\n",
    "    torch.tensor([0], dtype=torch.float64), torch.tensor([beta_std], dtype=torch.float64))\n",
    "beta = beta_dist.sample((dim, 1)).reshape(dim, 1)\n",
    "\n",
    "# tau\n",
    "tau = 2\n",
    "\n",
    "# generate Y\n",
    "Y_std = 0.1\n",
    "Y = torch.einsum('kl,ijk->ij',beta,X) + Y_std * torch.randn(ne, ns, dtype=torch.float64)"
   ]
  },
  {
   "cell_type": "code",
   "execution_count": 5,
   "metadata": {},
   "outputs": [],
   "source": [
    "# vectors for generating T\n",
    "# T = exp(-T_w^T X + b)\n",
    "T_std = 1\n",
    "T_dist = torch.distributions.normal.Normal(\n",
    "    torch.tensor([0.0], dtype=torch.float64), torch.tensor([T_std], dtype=torch.float64))\n",
    "T_w = T_dist.sample((dim, 1)).reshape(dim, 1)\n",
    "T_b = 0\n",
    "\n",
    "# generate T\n",
    "prob_vec = torch.sigmoid(torch.einsum('kl,ijk->ij', T_w, X) + T_b)\n",
    "T = torch.bernoulli(prob_vec)"
   ]
  },
  {
   "cell_type": "code",
   "execution_count": 6,
   "metadata": {},
   "outputs": [],
   "source": [
    "class Log_Reg(torch.nn.Module):\n",
    "    '''\n",
    "    Logistic Regression\n",
    "    '''\n",
    "    def __init__(self, D_in, D_out):\n",
    "        super(Log_Reg, self).__init__()\n",
    "        self.linear = torch.nn.Linear(D_in, D_out, bias=False)\n",
    "        \n",
    "    def forward(self, x):\n",
    "        y_pred = torch.sigmoid(self.linear(x))\n",
    "        return y_pred"
   ]
  },
  {
   "cell_type": "code",
   "execution_count": 7,
   "metadata": {},
   "outputs": [],
   "source": [
    "def IPTW_PPS(X, T, prob_vec, Y, tau, epses, delta, reg_co, nd, nf):\n",
    "    '''\n",
    "    average treatment effect with inverse probability of treatment weighting using private propensity scores\n",
    "    '''\n",
    "    # get # experiments, # samples, # dimensions\n",
    "    ne, ns, dim = X.shape\n",
    "    \n",
    "    # sgd step size\n",
    "    step_size = 0.01\n",
    "    \n",
    "    ################\n",
    "    # process data #\n",
    "    ################\n",
    "    \n",
    "    # get Y0 and Y1\n",
    "    Y0 = Y * (1 - T)\n",
    "    Y1 = (Y + tau) * T\n",
    "    \n",
    "    # split data\n",
    "    # get splits\n",
    "    fit_split = nf\n",
    "    est_split = ns - nf\n",
    "\n",
    "    # permute indices\n",
    "    perm = torch.stack([torch.randperm(ns) for i in range(ne)])\n",
    "\n",
    "    # create splits\n",
    "    s0 = perm[:, :fit_split]\n",
    "    s1 = perm[:, fit_split:]\n",
    "\n",
    "    # create auxiliary indices\n",
    "    idx = torch.arange(ne)[:, None]\n",
    "\n",
    "    # split X into fit, estimate splits\n",
    "    X_s0 = X[idx, s0]\n",
    "    X_s1 = X[idx, s1]\n",
    "\n",
    "    # expand dim of T to allow multiplication with X\n",
    "    T_ex_dim = T.reshape(ne, ns, 1)\n",
    "\n",
    "    # split X0 and X1 into fit, estimate splits\n",
    "    X0_s1 = (X * (1- T_ex_dim))[idx, s1]\n",
    "    X1_s1 = (X * T_ex_dim)[idx, s1]\n",
    "\n",
    "    # precompute ||X0_sl||_2^2 and ||X1_sl||_2^2\n",
    "    X0_s1_2 = X0_s1.norm(dim=2) ** 2\n",
    "    X1_s1_2 = X1_s1.norm(dim=2) ** 2\n",
    "\n",
    "    # add x_i to x_j for X0_plus_X0_s1 and X1_plus_X1_s1\n",
    "    X0_plus_X0_s1 = X0_s1.reshape(ne, est_split, 1, dim) + X0_s1.reshape(ne, 1, est_split, dim)\n",
    "    X1_plus_X1_s1 = X1_s1.reshape(ne, est_split, 1, dim) + X1_s1.reshape(ne, 1, est_split, dim)\n",
    "\n",
    "    # get norms squared for X0_plus_X0_s1 and X1_plus_X1_sl\n",
    "    X0_plus_X0_sl_norm_2 = X0_plus_X0_s1.norm(dim=-1) ** 2 \n",
    "    X1_plus_X1_sl_norm_2 = X1_plus_X1_s1.norm(dim=-1) ** 2 \n",
    "\n",
    "    # split T into fit, estimate splits\n",
    "    T_s0 = T[idx, s0]\n",
    "    T_s1 = T[idx, s1]\n",
    "\n",
    "    # split Y0 and Y1 into fit, estimate splits \n",
    "    Y0_s0 = Y0[idx, s0] \n",
    "    Y1_s0 = Y1[idx, s0] \n",
    "\n",
    "    Y0_s1 = Y0[idx, s1] \n",
    "    Y1_s1 = Y1[idx, s1] \n",
    "\n",
    "    # mult y_i to y_j for Y0_times_Y0_s1 and Y1_times_Y1_s1\n",
    "    Y0_times_Y0_s1 = Y0_s1.reshape(ne, est_split, 1) * Y0_s1.reshape(ne, 1, est_split)\n",
    "    Y1_times_Y1_s1 = Y1_s1.reshape(ne, est_split, 1) * Y1_s1.reshape(ne, 1, est_split)\n",
    "    \n",
    "    # reshape estimate splits for later\n",
    "    Y0_s1 = Y0_s1.reshape(ne, 1, est_split)\n",
    "    Y1_s1 = Y1_s1.reshape(ne, 1, est_split)\n",
    "    \n",
    "    ##############\n",
    "    # fit models #\n",
    "    ##############\n",
    "\n",
    "    # instantiate ne different models\n",
    "    models = [Log_Reg(dim, 1) for i in range(ne)]\n",
    "    # set model parameters to float64\n",
    "    [model.double() for model in models]\n",
    "\n",
    "    # define loss (binary cross entropy)\n",
    "    loss = torch.nn.BCELoss()\n",
    "\n",
    "    # define optimisers\n",
    "    optimisers = [torch.optim.SGD(models[i].parameters(), lr=step_size, weight_decay=reg_co) for i in range(ne)]\n",
    "    \n",
    "    # train models\n",
    "    for t in range(1000):\n",
    "        preds = [models[i](X_s0[i]).squeeze() for i in range(ne)]\n",
    "        losses = [loss(preds[i], T_s0[i]) for i in range(ne)]\n",
    "        [opt.zero_grad for opt in optimisers]\n",
    "        [loss.backward() for loss in losses]\n",
    "        [opt.step() for opt in optimisers]  \n",
    "        \n",
    "    #############################    \n",
    "    # estimate treatment effect #\n",
    "    #############################\n",
    "    \n",
    "    # initialise pi_hat dictionaries \n",
    "    pi_hats = {} \n",
    "    pi_hats_analytic = {}\n",
    "    \n",
    "    # get estimated propensity scores\n",
    "    pi_hats[0] = torch.stack([models[i](X_s1[i]).squeeze() for i in range(ne)])\n",
    "\n",
    "    # perturb model and get relevant quantities\n",
    "    for eps in epses:\n",
    "        # define sigma\n",
    "        s_a = 2. / (fit_split * reg_co)\n",
    "\n",
    "        # gaussian mechanism\n",
    "        sigma = np.sqrt(2 * np.log(1.25 / delta) + 1e-10) *  (s_a  / eps)\n",
    "        sigma_2 = sigma ** 2\n",
    "\n",
    "        # # analytic gaussian mechanism\n",
    "        # sigma = calibrateAnalyticGaussianMechanism(eps, delta, s_a)\n",
    "        # sigma_2 = sigma ** 2\n",
    "\n",
    "        # define noise distribution\n",
    "        noise_dist = torch.distributions.normal.Normal(torch.tensor([0.0], dtype=torch.float64), torch.tensor([sigma], dtype=torch.float64))\n",
    "\n",
    "        # draw noise vectors\n",
    "        noise_vecs = noise_dist.sample((ne, nd, dim)).reshape(ne, nd, dim)\n",
    "        \n",
    "        # create temp models \n",
    "        models_ = [copy.deepcopy(models) for i in range(nd)]\n",
    "        \n",
    "        # \\hat{\\w}^\\top Xs\n",
    "        w_T_X0_s1 = []\n",
    "        w_T_X0_plus_X0_s1 = []\n",
    "        w_T_X1_s1 = []\n",
    "        w_T_X1_plus_X1_s1 = []\n",
    "\n",
    "        # initialise list for privatised estimated propensity scores\n",
    "        pi_hats[eps] = []\n",
    "        \n",
    "        # perturb weights with noise vectors\n",
    "        for i in range(ne):\n",
    "            w_T_X0_s1.append(torch.einsum('ij,kj-> i', X0_s1[i], models[i].linear.weight))\n",
    "            w_T_X0_plus_X0_s1.append(torch.einsum('ijk,lk-> ij', X0_plus_X0_s1[i], models[i].linear.weight))\n",
    "            w_T_X1_s1.append(torch.einsum('ij,kj-> i', X1_s1[i], models[i].linear.weight))\n",
    "            w_T_X1_plus_X1_s1.append(torch.einsum('ijk,lk-> ij', X1_plus_X1_s1[i], models[i].linear.weight))\n",
    "            for j in range(nd):\n",
    "                model_temp = models_[j][i]\n",
    "                model_temp.linear.weight.data.add_(noise_vecs[i, j, :])\n",
    "                pi_hats[eps].append(model_temp(X_s1[i]).squeeze())\n",
    "                \n",
    "        # reshape stacked privatised estimated propensity scores as ne * nd\n",
    "        pi_hats[eps] = torch.stack(pi_hats[eps]).reshape(ne, nd, est_split)\n",
    "        \n",
    "        # precompute sigma^2 ||x||_2^2 and \\w^\\top Xs\n",
    "        pi_hats_analytic[eps] = {'sigma_2_X0_s1_2': sigma_2 * X0_s1_2}\n",
    "        pi_hats_analytic[eps]['sigma_2_X1_s1_2'] = sigma_2 * X1_s1_2\n",
    "        pi_hats_analytic[eps]['sigma_2_X0_plus_X0_s1'] = sigma_2 * X0_plus_X0_sl_norm_2\n",
    "        pi_hats_analytic[eps]['sigma_2_X1_plus_X1_s1'] = sigma_2 * X1_plus_X1_sl_norm_2\n",
    "        pi_hats_analytic[eps]['w_T_X0_s1'] = torch.stack(w_T_X0_s1)\n",
    "        pi_hats_analytic[eps]['w_T_X0_plus_X0_s1'] = torch.stack(w_T_X0_plus_X0_s1)\n",
    "        pi_hats_analytic[eps]['w_T_X1_s1'] = torch.stack(w_T_X1_s1)\n",
    "        pi_hats_analytic[eps]['w_T_X1_plus_X1_s1'] = torch.stack(w_T_X1_plus_X1_s1)\n",
    "                \n",
    "    # get treatment effects\n",
    "    # true\n",
    "    te = {}\n",
    "    # empirical means and (std of means) of ERM + private ERM \n",
    "    te_hats = {'means': [], 'stds': []}\n",
    "    # analytic means and (std of means + mean of stds) of private ERM\n",
    "    te_hats_analytic = {'means': [], 'stds': []}\n",
    "\n",
    "    # estimate true treatment effect\n",
    "    te_ = torch.mean(Y1_s1.squeeze() / prob_vec[idx, s1] - Y0_s1.squeeze() / (1 - prob_vec[idx, s1]), 1)\n",
    "    te['mean'] = te_.mean().detach().numpy()\n",
    "    te['std'] = te_.std().detach().numpy()\n",
    "\n",
    "    for key in pi_hats.keys():\n",
    "        if key != 0:\n",
    "            # empirical estimates\n",
    "            # reduce_mean from (ne, nd, est_split) tensor to (ne * nd, 1) matrix\n",
    "            te_hats_ = torch.mean(Y1_s1 / pi_hats[key] - Y0_s1 / (1 - pi_hats[key]), 2)\n",
    "            # analytic estimates\n",
    "            # expectation and variance of mu_0\n",
    "            rand_mu_0 = Y0_s1.squeeze() * torch.exp(pi_hats_analytic[key]['w_T_X0_s1'] + pi_hats_analytic[key]['sigma_2_X0_s1_2']/2)\n",
    "            E_mu_0 = torch.mean(Y0_s1.squeeze() + rand_mu_0, [1])\n",
    "            mu_X0_s1_2 = Y0_times_Y0_s1 * torch.exp(pi_hats_analytic[key]['w_T_X0_plus_X0_s1'] + pi_hats_analytic[key]['sigma_2_X0_plus_X0_s1']/2)\n",
    "            mu_X0_s1_mu_X0_s1 = rand_mu_0.reshape(ne, 1, est_split) * rand_mu_0.reshape(ne, est_split, 1)\n",
    "            var_mu_0 = torch.mean(mu_X0_s1_2 - mu_X0_s1_mu_X0_s1, [1, 2])\n",
    "            # expectation and variance of mu_1\n",
    "            rand_mu_1 = Y1_s1.squeeze() * torch.exp(- pi_hats_analytic[key]['w_T_X1_s1'] + pi_hats_analytic[key]['sigma_2_X1_s1_2']/2)\n",
    "            E_mu_1 = torch.mean(Y1_s1.squeeze() + rand_mu_1, [1])\n",
    "            mu_X1_s1_2 = Y1_times_Y1_s1 * torch.exp(- pi_hats_analytic[key]['w_T_X1_plus_X1_s1'] + pi_hats_analytic[key]['sigma_2_X1_plus_X1_s1']/2)\n",
    "            mu_X1_s1_mu_X1_s1 = rand_mu_1.reshape(ne, 1, est_split) * rand_mu_1.reshape(ne, est_split, 1)\n",
    "            var_mu_1 = torch.mean(mu_X1_s1_2 - mu_X1_s1_mu_X1_s1, [1, 2])\n",
    "            # expectation and variance of te_hats\n",
    "            te_hats_analytic_mu = E_mu_1 - E_mu_0\n",
    "            te_hats_analytic_std = torch.sqrt(var_mu_1 + var_mu_0)\n",
    "            te_hats_analytic['means'].append(te_hats_analytic_mu.detach().numpy())\n",
    "            te_hats_analytic['stds'].append(te_hats_analytic_std.detach().numpy())\n",
    "        else:\n",
    "            # empirical estimate for noiseless case\n",
    "            # reduce_mean from (ne, est_split) tensor to (ne , 1) matrix\n",
    "            te_hats_ = torch.mean(Y1_s1.squeeze() / pi_hats[key] - Y0_s1.squeeze() / (1 - pi_hats[key]), 1).reshape(ne, 1)\n",
    "        te_hats['means'].append([te_hats_[i].mean().detach().numpy() for i in range(ne)])\n",
    "        te_hats['stds'].append([te_hats_[i].std().detach().numpy() for i in range(ne)])            \n",
    "    \n",
    "    te_hats['means'] = np.array(te_hats['means'])\n",
    "    te_hats['stds'] = np.array(te_hats['stds'])\n",
    "    te_hats_analytic['means'] = np.array(te_hats_analytic['means'])\n",
    "    te_hats_analytic['stds'] = np.array(te_hats_analytic['stds'])\n",
    "    \n",
    "    return te, te_hats, te_hats_analytic"
   ]
  },
  {
   "cell_type": "code",
   "execution_count": 8,
   "metadata": {},
   "outputs": [],
   "source": [
    "def plot_hist(figname, tau, te_hats, var, ne):\n",
    "    '''\n",
    "    plot histogram of empirical probabilities flipped signs \n",
    "    '''\n",
    "    \n",
    "    # deal with nans by setting them to be -bias\n",
    "    for i in range(len(te_hats['means'][1:])):\n",
    "        te_hats['means'][1:][i][np.isnan(te_hats['means'][1:][i])] = -tau     \n",
    "    \n",
    "    sgn_tau_hat = np.sign(te_hats['means'][0])\n",
    "    \n",
    "    # compute probabilities\n",
    "    probs = [sum(np.sign(i) != sgn_tau_hat) / ne for i in te_hats['means'][1:]]    \n",
    "    str_var = [str(i) for i in var]\n",
    "    \n",
    "    print(probs)\n",
    "    print(str_var)\n",
    "\n",
    "    fig, ax = plt.subplots(1,1, figsize=(8, 5))\n",
    "    ax.bar(str_var, probs)\n",
    "\n",
    "    title = \"(sgn(\"+\"$\\\\hat{\\\\tau}$\"+\")\"+\"$\\\\neq$\"+\"sgn(\"+\"$\\\\hat{\\\\tau}_\\\\epsilon$\" + \"))\"\n",
    "    \n",
    "    ax.set_title(\"P\"+title+\" against $\\epsilon$ for $\\\\tau$ = {}\".format(bias), fontsize=20)\n",
    "    ax.set_ylabel(\"P\"+title, fontsize=18)\n",
    "    ax.set_xlabel(\"privacy loss ($\\epsilon$)\", fontsize=18)\n",
    "    \n",
    "    ax.tick_params(labelsize=16)\n",
    "    \n",
    "    fig.tight_layout()\n",
    "    fig.savefig(figname+'.pdf',dpi=100)"
   ]
  },
  {
   "cell_type": "code",
   "execution_count": 9,
   "metadata": {},
   "outputs": [],
   "source": [
    "def plot_te(figname, te, te_hats, te_hats_analytic, epses, cutoff, tau):\n",
    "    '''\n",
    "    plot the true treatment effect, ERM, private ERM treatment effect\n",
    "    '''\n",
    "    fig, ax = plt.subplots(1,1, figsize=(20, 10))\n",
    "    \n",
    "    te_hat = np.mean([te_hats['means'][0]], 1)\n",
    "    te_hat_std = np.std([te_hats['means'][0]])\n",
    "    te_hat_z = np.mean(te_hats['means'][1:], 1)[cutoff:]\n",
    "    te_hat_z_std = np.std(te_hats['means'][1:], 1)[cutoff:]\n",
    "    te_hat_mu = np.mean(te_hats_analytic['means'], 1)[cutoff:]\n",
    "    te_hat_mu_std = np.std(te_hats_analytic['means'], 1)[cutoff:] + np.mean(te_hats_analytic['stds'], 1)[cutoff:]\n",
    "    \n",
    "    ax.plot(epses[cutoff:], [te['mean']] * len(epses[cutoff:]) , marker='o', color='magenta', label=\"Truth\")\n",
    "#     ax.fill_between(epses, te['mean'] + te['std'], te['mean'] - te['std'], facecolor='magenta', alpha=0.25)\n",
    "    ax.plot(epses[cutoff:], [te_hat] * len(epses[cutoff:]) , marker='o', color='red', label=\"ERM\")\n",
    "    ax.plot(epses[cutoff:], te_hat_z, marker='x', color='blue', label=\"Empirical Private ERM\")\n",
    "    ax.plot(epses[cutoff:], te_hat_mu ,marker='d', color='green', label=\"Analytical Private ERM\")\n",
    "    ax.fill_between(epses[cutoff:], te_hat + te_hat_std, \n",
    "                        te_hat - te_hat_std, facecolor='red', alpha=0.25)\n",
    "    ax.fill_between(epses[cutoff:], te_hat_z + te_hat_z_std, \n",
    "                        te_hat_z - te_hat_z_std, facecolor='blue', alpha=0.25)\n",
    "    ax.fill_between(epses[cutoff:], te_hat_mu + te_hat_mu_std,\n",
    "                        te_hat_mu - te_hat_mu_std, facecolor='green', alpha=0.25)\n",
    "\n",
    "    ax.set_title(\"True, ERM, Empirical Private ERM and Analytical Private ERM ATE against $\\epsilon$\", fontsize=20)\n",
    "    ax.set_ylabel(\"Average Treatment Effect\", fontsize=20)\n",
    "    ax.set_xlabel(\"$\\epsilon$\", fontsize=20)\n",
    "    if tau > 0:\n",
    "        ax.legend(fontsize=16, loc=1)\n",
    "    else:\n",
    "        ax.legend(fontsize=16, loc=4)\n",
    "\n",
    "    fig.tight_layout()\n",
    "    fig.savefig(figname+'.png',dpi=100)"
   ]
  },
  {
   "cell_type": "markdown",
   "metadata": {},
   "source": [
    "## Model I $(\\mathbb{E}[\\mu_1 - \\mu_0] = 0)$"
   ]
  },
  {
   "cell_type": "raw",
   "metadata": {},
   "source": [
    "# generate T \\in {0, 1}\n",
    "prob_vec = 0.5 * torch.ones(ne, ns, dtype=torch.float64)\n",
    "T = torch.bernoulli(prob_vec)\n",
    "\n",
    "# get Y0 and Y1\n",
    "Y0 = Y * (1 - T)\n",
    "Y1 = (Y + 0) * T    "
   ]
  },
  {
   "cell_type": "raw",
   "metadata": {},
   "source": [
    "# plot the true functions and the samples\n",
    "fig,ax = plt.subplots(1,1)\n",
    "\n",
    "ax.plot(Y0[0, :][Y0[0, :].nonzero()].squeeze().numpy(),linewidth=1,linestyle=\"None\",marker='o',color='red',label=\"Y_0\")\n",
    "ax.plot(Y1[0, :][Y1[0, :].nonzero()].squeeze().numpy(),linewidth=1,linestyle=\"None\",marker='x',color='blue',label=\"Y_1\")\n",
    "ax.legend([\"$Y_0$\",\"$Y_1$\"])\n",
    "ax.set_title(\"Scenario I\")\n",
    "ax.set_ylabel(\"Y\")\n",
    "\n",
    "fig.tight_layout()\n",
    "fig.savefig('data_scenario_1.png',dpi=100)"
   ]
  },
  {
   "cell_type": "raw",
   "metadata": {},
   "source": [
    "# plot the histograms\n",
    "fig, ax = plt.subplots(1,1)\n",
    "n, bins, patches = ax.hist(Y0[0, :][Y0[0, :].nonzero()].squeeze().numpy(),30,density=1,facecolor='green', alpha=0.6, label=\"$Y_0$\")\n",
    "# y0 = mlab.normpdf(bins, 0, 1)\n",
    "# l = plt.plot(bins, y0, 'r--', linewidth=3,label='Y0')\n",
    "\n",
    "n, bins, patches = ax.hist(Y1[0, :][Y1[0, :].nonzero()].squeeze().numpy(),30,density=1,facecolor='blue', alpha=0.6,label=\"$Y_1$\")\n",
    "# y1 = mlab.normpdf(bins, 2, 1)\n",
    "# l = plt.plot(bins, y1, 'm--', linewidth=3,label='Y1')\n",
    "\n",
    "ax.legend()\n",
    "ax.set_title('Scenario I', fontsize=16)\n",
    "ax.set_ylabel('P(Y)', fontsize=16)\n",
    "ax.set_xlabel('Y', fontsize=16)\n",
    "ax.grid(True)\n",
    "\n",
    "fig.tight_layout()\n",
    "fig.savefig('data_model_1.png',dpi=100)"
   ]
  },
  {
   "cell_type": "raw",
   "metadata": {},
   "source": [
    "te, te_hats, te_hats_analytic, flipped = IPTW_PPS(X, T, prob_vec, Y, 0, epses, delta, reg_co, nd, nf)"
   ]
  },
  {
   "cell_type": "raw",
   "metadata": {},
   "source": [
    "plot_te('sim_bias_0_epses', te, te_hats, te_hats_analytic, epses)"
   ]
  },
  {
   "cell_type": "markdown",
   "metadata": {},
   "source": [
    "## Model II $(\\mathbb{E}[\\mu_1 - \\mu_0] = 2)$"
   ]
  },
  {
   "cell_type": "raw",
   "metadata": {},
   "source": [
    "# generate T \\in {0, 1}\n",
    "# bias_sample = 2 * torch.bernoulli(0.5 * torch.ones(ne, ns, dtype=torch.float64)) - 1\n",
    "\n",
    "# get Y0 and Y1\n",
    "Y0 = Y * (1 - T)\n",
    "Y1 = (Y + bias) * T"
   ]
  },
  {
   "cell_type": "raw",
   "metadata": {},
   "source": [
    "# plot the true functions and the samples\n",
    "fig,ax = plt.subplots(1,1)\n",
    "\n",
    "ax.plot(Y0[0, :][Y0[0, :].nonzero()].squeeze().numpy(),linewidth=1,linestyle=\"None\",marker='o',color='red',label=\"Y_0\")\n",
    "ax.plot(Y1[0, :][Y1[0, :].nonzero()].squeeze().numpy(),linewidth=1,linestyle=\"None\",marker='x',color='blue',label=\"Y_1\")\n",
    "ax.legend([\"$Y_0$\",\"$Y_1$\"])\n",
    "ax.set_title(\"Scenario II\")\n",
    "ax.set_ylabel(\"Y\")\n",
    "\n",
    "fig.tight_layout()\n",
    "fig.savefig('data_scenario_2.png', dpi=100)"
   ]
  },
  {
   "cell_type": "raw",
   "metadata": {},
   "source": [
    "# plot the histograms\n",
    "fig, ax = plt.subplots(1,1)\n",
    "n, bins, patches = ax.hist(Y0[0, :][Y0[0, :].nonzero()].squeeze().numpy(),30,density=1,facecolor='green', alpha=0.6, label=\"$Y_0$\")\n",
    "# y0 = mlab.normpdf(bins, 0, 1)\n",
    "# l = plt.plot(bins, y0, 'r--', linewidth=3,label='Y0')\n",
    "\n",
    "n, bins, patches = ax.hist(Y1[0, :][Y1[0, :].nonzero()].squeeze().numpy(),30,density=1,facecolor='blue', alpha=0.6,label=\"$Y_1$\")\n",
    "# y1 = mlab.normpdf(bins, 2, 1)\n",
    "# l = plt.plot(bins, y1, 'm--', linewidth=3,label='Y1')\n",
    "\n",
    "ax.legend()\n",
    "ax.set_title('Scenario II', fontsize=16)\n",
    "ax.set_ylabel('P(Y)', fontsize=16)\n",
    "ax.set_xlabel('Y', fontsize=16)\n",
    "ax.grid(True)\n",
    "\n",
    "fig.tight_layout()\n",
    "fig.savefig('data_model_2.png', dpi=100)"
   ]
  },
  {
   "cell_type": "code",
   "execution_count": 10,
   "metadata": {},
   "outputs": [
    {
     "name": "stdout",
     "output_type": "stream",
     "text": [
      "tensor(-0.0239, dtype=torch.float64) tensor(1.0244, dtype=torch.float64)\n"
     ]
    }
   ],
   "source": [
    "te, te_hats, te_hats_analytic = IPTW_PPS(X, T, prob_vec, Y, bias, epses, delta, reg_co, nd, nf)"
   ]
  },
  {
   "cell_type": "code",
   "execution_count": 11,
   "metadata": {
    "scrolled": false
   },
   "outputs": [
    {
     "name": "stdout",
     "output_type": "stream",
     "text": [
      "[0.24, 0.03, 0.0, 0.0, 0.0, 0.0, 0.0, 0.0]\n",
      "['0.01', '0.03', '0.05', '0.1', '0.2', '0.4', '0.8', '0.99']\n"
     ]
    },
    {
     "data": {
      "image/png": "[encoded data removed]",
      "text/plain": [
       "<Figure size 576x360 with 1 Axes>"
      ]
     },
     "metadata": {
      "needs_background": "light"
     },
     "output_type": "display_data"
    }
   ],
   "source": [
    "plot_hist('sim_bias_'+str(bias)+'_epses_flip_prob', bias, te_hats, epses, ne)"
   ]
  },
  {
   "cell_type": "raw",
   "metadata": {},
   "source": [
    "plot_te('sim_bias_'+str(bias)+'_epses', te, te_hats, te_hats_analytic, epses, 2, bias)"
   ]
  },
  {
   "cell_type": "markdown",
   "metadata": {},
   "source": [
    "## Model III $(\\mathbb{E}[\\mu_1 - \\mu_0] = -2)$"
   ]
  },
  {
   "cell_type": "raw",
   "metadata": {},
   "source": [
    "# plot the true functions and the samples\n",
    "fig,ax = plt.subplots(1,1)\n",
    "\n",
    "ax.plot(Y0[0, :][Y0[0, :].nonzero()].squeeze().numpy(),linewidth=1,linestyle=\"None\",marker='o',color='red',label=\"Y_0\")\n",
    "ax.plot(Y1[0, :][Y1[0, :].nonzero()].squeeze().numpy(),linewidth=1,linestyle=\"None\",marker='x',color='blue',label=\"Y_1\")\n",
    "ax.legend([\"$Y_0$\",\"$Y_1$\"])\n",
    "ax.set_title(\"Scenario III\")\n",
    "ax.set_ylabel(\"Y\")\n",
    "\n",
    "fig.tight_layout()\n",
    "fig.savefig('data_scenario_3.png', dpi=100)"
   ]
  },
  {
   "cell_type": "raw",
   "metadata": {},
   "source": [
    "# plot the histograms\n",
    "fig, ax = plt.subplots(1,1)\n",
    "n, bins, patches = ax.hist(Y0[0, :][Y0[0, :].nonzero()].squeeze().numpy(),30,density=1,facecolor='green', alpha=0.6, label=\"$Y_0$\")\n",
    "# y0 = mlab.normpdf(bins, 0, 1)\n",
    "# l = plt.plot(bins, y0, 'r--', linewidth=3,label='Y0')\n",
    "\n",
    "n, bins, patches = ax.hist(Y1[0, :][Y1[0, :].nonzero()].squeeze().numpy(),30,density=1,facecolor='blue', alpha=0.6,label=\"$Y_1$\")\n",
    "# y1 = mlab.normpdf(bins, 2, 1)\n",
    "# l = plt.plot(bins, y1, 'm--', linewidth=3,label='Y1')\n",
    "\n",
    "ax.legend()\n",
    "ax.set_title('Scenario III', fontsize=16)\n",
    "ax.set_ylabel('P(Y)', fontsize=16)\n",
    "ax.set_xlabel('Y', fontsize=16)\n",
    "ax.grid(True)\n",
    "\n",
    "fig.tight_layout()\n",
    "fig.savefig('data_model_3.png', dpi=100)"
   ]
  },
  {
   "cell_type": "raw",
   "metadata": {
    "scrolled": false
   },
   "source": [
    "te, te_hats, te_hats_analytic = IPTW_PPS(X, T, prob_vec, Y, -bias, epses, delta, reg_co, nd, nf)"
   ]
  },
  {
   "cell_type": "raw",
   "metadata": {},
   "source": [
    "plot_hist('sim_bias_'+str(-bias)+'_epses_flip_prob', -bias, te_hats, epses, ne)"
   ]
  },
  {
   "cell_type": "raw",
   "metadata": {},
   "source": [
    "plot_te('sim_bias_'+str(-bias)+'_epses', te, te_hats, te_hats_analytic, epses, 2, -bias)"
   ]
  }
 ],
 "metadata": {
  "kernelspec": {
   "display_name": "Python 3",
   "language": "python",
   "name": "python3"
  },
  "language_info": {
   "codemirror_mode": {
    "name": "ipython",
    "version": 3
   },
   "file_extension": ".py",
   "mimetype": "text/x-python",
   "name": "python",
   "nbconvert_exporter": "python",
   "pygments_lexer": "ipython3",
   "version": "3.6.7"
  }
 },
 "nbformat": 4,
 "nbformat_minor": 2
}
